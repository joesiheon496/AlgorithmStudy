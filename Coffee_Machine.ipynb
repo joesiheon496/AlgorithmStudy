{
  "nbformat": 4,
  "nbformat_minor": 0,
  "metadata": {
    "colab": {
      "provenance": [],
      "authorship_tag": "ABX9TyPo+1kQZ6mN5Ihhz7GAkjCh",
      "include_colab_link": true
    },
    "kernelspec": {
      "name": "python3",
      "display_name": "Python 3"
    },
    "language_info": {
      "name": "python"
    }
  },
  "cells": [
    {
      "cell_type": "markdown",
      "metadata": {
        "id": "view-in-github",
        "colab_type": "text"
      },
      "source": [
        "<a href=\"https://colab.research.google.com/github/joesiheon496/AlgorithmStudy/blob/master/Coffee_Machine.ipynb\" target=\"_parent\"><img src=\"https://colab.research.google.com/assets/colab-badge.svg\" alt=\"Open In Colab\"/></a>"
      ]
    },
    {
      "cell_type": "code",
      "source": [
        "MENU = {'espresso' = {\n",
        "    'ingredients':{\n",
        "        'water':50,\n",
        "        'coffee':18,\n",
        "    },\n",
        "    'cost':1.5,\n",
        "}\n",
        "'latte' = {\n",
        "    'ingredients':{\n",
        "        'water':200,\n",
        "        'milk':150,\n",
        "        'coffee':24,\n",
        "    },\n",
        "    'cost':2.5,\n",
        "}\n",
        "'espresso' = {\n",
        "    'ingredients':{\n",
        "        'water':250,\n",
        "        'milk':100,\n",
        "        'coffee':24,\n",
        "    },\n",
        "    'cost':3.0,\n",
        "}}\n",
        "profit = 0\n",
        "resources = {\n",
        "    'water':300,\n",
        "    'milk':200,\n",
        "    'coffee':100,\n",
        "}\n",
        "\n",
        "def is_resource_sufficient(order_ingredients):\n",
        "    for item in order_ingredients:\n",
        "        if order_ingredients[item] >= resources[item]:\n",
        "            print(f'Sorry there is not enough {item}.')\n",
        "            return False\n",
        "    return True\n",
        "def process_coins():\n",
        "    print('Please insert coins')\n",
        "    total = int(input('How many quarters?: '))* 0.25\n",
        "    total += int(input('How many dimes?: '))* 0.1\n",
        "    total += int(input('How many nickles?: '))* 0.05\n",
        "    total += int(input('How many pennies?: '))* 0.01\n",
        "\n",
        "def is_transection_successful(money_recdeived, drink_cost):\n",
        "    if money_received >= drink_cost:\n",
        "        change = round(money_received - drink_cost, 2)\n",
        "        print(f\"Here is {change} is change\")\n",
        "        global profit\n",
        "        return True\n",
        "    else:\n",
        "        print(\"Sorry that's not enough money. money refunded.\")\n",
        "        return False\n",
        "\n",
        "def make_coffe(drink_name, order_ingredients):\n",
        "    for item in order_ingredients:\n",
        "        resources[item] -= order_ingredients[item]\n",
        "    print(f\"here you are your {drink_name}\")\n",
        "\n",
        "\n",
        "is_on = True\n",
        "\n",
        "while is_on:\n",
        "    choice = input(\"What would you like? (espresso/latte/cappuccino): \")\n",
        "    if choice =='off':\n",
        "        is_on = False\n",
        "    elif choice == 'report':\n",
        "        print(f\"Water : {resources['water']}ml\")\n",
        "        print(f\"Milk : {resources['milk']}ml\")\n",
        "        print(f\"Coffe : {resources['coffe']}g\")\n",
        "        print(f\"Money : ${profit}\")\n",
        "    else:\n",
        "        drink = MENU[choice]\n",
        "        if is_resource_sufficient(drink['ingredients']):\n",
        "            payment = process_coins()\n",
        "            if is_transection_successful(payment, drink['cost']):\n",
        "                make_coffee()\n",
        "\n",
        "\n"
      ],
      "metadata": {
        "id": "gHU8hGi_2hJX"
      },
      "execution_count": null,
      "outputs": []
    },
    {
      "cell_type": "code",
      "execution_count": null,
      "metadata": {
        "id": "lvbBEHH4re2H"
      },
      "outputs": [],
      "source": [
        "class CoffeeMachineSoftWare():\n",
        "    def __init__(self, coffee_type:str, money:float, water:int, milk:int, coffee:int):\n",
        "        self.coffee_type = coffee_type\n",
        "        self.money = money\n",
        "        self.coffee = coffee\n",
        "        self.water = water\n",
        "        self.milk = milk\n",
        "\n",
        "    def info(self):\n",
        "        input = input('What would you like? (espresso/latte/cappuccino): ')\n",
        "        return input\n",
        "\n",
        "    def coin(self):\n",
        "        print(f'Please insert coins.')\n",
        "        quarters = int(input('How many quarters? : '))\n",
        "        dimes = int(input('How many dimes? : '))\n",
        "        nickles = int(input('How many nickles? : '))\n",
        "        pennies = int(input('How many pennies? : '))\n",
        "        return 1*quarters + 1*dimes + 1*nickles + 1*pennies\n",
        "\n",
        "\n",
        "    def report(self):\n",
        "        print(f'Water : {self.water}ml')\n",
        "        print(f'Milk : {self.water}ml')\n",
        "        print(f'Coffe : {self.water}g')\n",
        "        print(f'Money : ${self.money}')\n",
        "\n",
        "    def americano(self):\n",
        "        self.coffee = self.coffee - 18\n",
        "        self.watter = self.water - 50\n",
        "\n",
        "    def latte(self):\n",
        "        self.coffee = self.coffee - 18\n",
        "        self.watter = self.water - 200\n",
        "        self.milk = self.milk -\n",
        "        if a:\n",
        "            print('Sorry there is not enough water.')\n",
        "\n",
        "    def cappuccino(self):\n",
        "        self.coffee = self.coffee - 18\n",
        "        self.watter = self.water - 50"
      ]
    },
    {
      "cell_type": "code",
      "source": [],
      "metadata": {
        "id": "sS7qHVSXtSCS"
      },
      "execution_count": null,
      "outputs": []
    }
  ]
}