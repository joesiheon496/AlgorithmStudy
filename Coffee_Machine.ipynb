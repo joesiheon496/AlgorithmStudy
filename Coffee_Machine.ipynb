{
  "nbformat": 4,
  "nbformat_minor": 0,
  "metadata": {
    "colab": {
      "provenance": [],
      "authorship_tag": "ABX9TyOpaKiOKw7AWEeJudcKXB5Y",
      "include_colab_link": true
    },
    "kernelspec": {
      "name": "python3",
      "display_name": "Python 3"
    },
    "language_info": {
      "name": "python"
    }
  },
  "cells": [
    {
      "cell_type": "markdown",
      "metadata": {
        "id": "view-in-github",
        "colab_type": "text"
      },
      "source": [
        "<a href=\"https://colab.research.google.com/github/joesiheon496/AlgorithmStudy/blob/master/Coffee_Machine.ipynb\" target=\"_parent\"><img src=\"https://colab.research.google.com/assets/colab-badge.svg\" alt=\"Open In Colab\"/></a>"
      ]
    },
    {
      "cell_type": "code",
      "source": [
        "MENU = {\n",
        "'espresso' : {\n",
        "    'ingredients':{\n",
        "        'water':50,\n",
        "        'coffee':18,\n",
        "    },\n",
        "    'cost':1.5,\n",
        "},\n",
        "'latte' : {\n",
        "    'ingredients':{\n",
        "        'water':200,\n",
        "        'milk':150,\n",
        "        'coffee':24,\n",
        "    },\n",
        "    'cost':2.5,\n",
        "},\n",
        "'cappuccino' : {\n",
        "    'ingredients':{\n",
        "        'water':250,\n",
        "        'milk':100,\n",
        "        'coffee':24,\n",
        "    },\n",
        "    'cost':3.0,\n",
        "}\n",
        "        }\n",
        "\n",
        "profit = 0\n",
        "\n",
        "resources = {\n",
        "    'water':300,\n",
        "    'milk':200,\n",
        "    'coffee':100,\n",
        "}\n",
        "\n",
        "def is_resource_sufficient(order_ingredients):\n",
        "    for item in order_ingredients:\n",
        "        if order_ingredients[item] >= resources[item]:\n",
        "            print(f'Sorry there is not enough {item}.')\n",
        "            return False\n",
        "    return True\n",
        "def process_coins():\n",
        "    print('Please insert coins')\n",
        "    total = int(input('How many quarters?: '))* 0.25\n",
        "    total += int(input('How many dimes?: '))* 0.1\n",
        "    total += int(input('How many nickles?: '))* 0.05\n",
        "    total += int(input('How many pennies?: '))* 0.01\n",
        "    return total\n",
        "\n",
        "def is_transection_successful(money_received, drink_cost):\n",
        "    if money_received >= drink_cost:\n",
        "        change = round(money_received - drink_cost, 2)\n",
        "        print(f\"Here is {change} is change\")\n",
        "        global profit\n",
        "        profit += drink_cost\n",
        "        return True\n",
        "    else:\n",
        "        print(\"Sorry that's not enough money. money refunded.\")\n",
        "        return False\n",
        "\n",
        "def make_coffee(drink_name, order_ingredients):\n",
        "    for item in order_ingredients:\n",
        "        resources[item] -= order_ingredients[item]\n",
        "    print(f\"here you are your {drink_name}\")\n",
        "\n",
        "\n",
        "is_on = True\n",
        "\n",
        "while is_on:\n",
        "    choice = input(\"What would you like? (espresso/latte/cappuccino): \")\n",
        "    if choice =='off':\n",
        "        is_on = False\n",
        "    elif choice == 'report':\n",
        "        print(f\"Water : {resources['water']}ml\")\n",
        "        print(f\"Milk : {resources['milk']}ml\")\n",
        "        print(f\"Coffe : {resources['coffe']}g\")\n",
        "        print(f\"Money : ${profit}\")\n",
        "    else:\n",
        "        drink = MENU[choice]\n",
        "        if is_resource_sufficient(drink['ingredients']):\n",
        "            payment = process_coins()\n",
        "            if is_transection_successful(payment, drink['cost']):\n",
        "                make_coffee(choice, drink['ingredients'])\n",
        "\n",
        "\n"
      ],
      "metadata": {
        "colab": {
          "base_uri": "https://localhost:8080/",
          "height": 554
        },
        "id": "gHU8hGi_2hJX",
        "outputId": "b6093cb1-6451-4005-9c2f-58656c6fc28b"
      },
      "execution_count": 11,
      "outputs": [
        {
          "output_type": "stream",
          "name": "stdout",
          "text": [
            "What would you like? (espresso/latte/cappuccino): espresso\n",
            "Please insert coins\n",
            "How many quarters?: 234\n",
            "How many dimes?: 234\n",
            "How many nickles?: 234\n",
            "How many pennies?: 234\n",
            "Here is 94.44 is change\n",
            "here you are your espresso\n"
          ]
        },
        {
          "output_type": "error",
          "ename": "KeyboardInterrupt",
          "evalue": "ignored",
          "traceback": [
            "\u001b[0;31m---------------------------------------------------------------------------\u001b[0m",
            "\u001b[0;31mKeyboardInterrupt\u001b[0m                         Traceback (most recent call last)",
            "\u001b[0;32m<ipython-input-11-a3dcabc66b7f>\u001b[0m in \u001b[0;36m<cell line: 68>\u001b[0;34m()\u001b[0m\n\u001b[1;32m     67\u001b[0m \u001b[0;34m\u001b[0m\u001b[0m\n\u001b[1;32m     68\u001b[0m \u001b[0;32mwhile\u001b[0m \u001b[0mis_on\u001b[0m\u001b[0;34m:\u001b[0m\u001b[0;34m\u001b[0m\u001b[0;34m\u001b[0m\u001b[0m\n\u001b[0;32m---> 69\u001b[0;31m     \u001b[0mchoice\u001b[0m \u001b[0;34m=\u001b[0m \u001b[0minput\u001b[0m\u001b[0;34m(\u001b[0m\u001b[0;34m\"What would you like? (espresso/latte/cappuccino): \"\u001b[0m\u001b[0;34m)\u001b[0m\u001b[0;34m\u001b[0m\u001b[0;34m\u001b[0m\u001b[0m\n\u001b[0m\u001b[1;32m     70\u001b[0m     \u001b[0;32mif\u001b[0m \u001b[0mchoice\u001b[0m \u001b[0;34m==\u001b[0m\u001b[0;34m'off'\u001b[0m\u001b[0;34m:\u001b[0m\u001b[0;34m\u001b[0m\u001b[0;34m\u001b[0m\u001b[0m\n\u001b[1;32m     71\u001b[0m         \u001b[0mis_on\u001b[0m \u001b[0;34m=\u001b[0m \u001b[0;32mFalse\u001b[0m\u001b[0;34m\u001b[0m\u001b[0;34m\u001b[0m\u001b[0m\n",
            "\u001b[0;32m/usr/local/lib/python3.10/dist-packages/ipykernel/kernelbase.py\u001b[0m in \u001b[0;36mraw_input\u001b[0;34m(self, prompt)\u001b[0m\n\u001b[1;32m    849\u001b[0m                 \u001b[0;34m\"raw_input was called, but this frontend does not support input requests.\"\u001b[0m\u001b[0;34m\u001b[0m\u001b[0;34m\u001b[0m\u001b[0m\n\u001b[1;32m    850\u001b[0m             )\n\u001b[0;32m--> 851\u001b[0;31m         return self._input_request(str(prompt),\n\u001b[0m\u001b[1;32m    852\u001b[0m             \u001b[0mself\u001b[0m\u001b[0;34m.\u001b[0m\u001b[0m_parent_ident\u001b[0m\u001b[0;34m,\u001b[0m\u001b[0;34m\u001b[0m\u001b[0;34m\u001b[0m\u001b[0m\n\u001b[1;32m    853\u001b[0m             \u001b[0mself\u001b[0m\u001b[0;34m.\u001b[0m\u001b[0m_parent_header\u001b[0m\u001b[0;34m,\u001b[0m\u001b[0;34m\u001b[0m\u001b[0;34m\u001b[0m\u001b[0m\n",
            "\u001b[0;32m/usr/local/lib/python3.10/dist-packages/ipykernel/kernelbase.py\u001b[0m in \u001b[0;36m_input_request\u001b[0;34m(self, prompt, ident, parent, password)\u001b[0m\n\u001b[1;32m    893\u001b[0m             \u001b[0;32mexcept\u001b[0m \u001b[0mKeyboardInterrupt\u001b[0m\u001b[0;34m:\u001b[0m\u001b[0;34m\u001b[0m\u001b[0;34m\u001b[0m\u001b[0m\n\u001b[1;32m    894\u001b[0m                 \u001b[0;31m# re-raise KeyboardInterrupt, to truncate traceback\u001b[0m\u001b[0;34m\u001b[0m\u001b[0;34m\u001b[0m\u001b[0m\n\u001b[0;32m--> 895\u001b[0;31m                 \u001b[0;32mraise\u001b[0m \u001b[0mKeyboardInterrupt\u001b[0m\u001b[0;34m(\u001b[0m\u001b[0;34m\"Interrupted by user\"\u001b[0m\u001b[0;34m)\u001b[0m \u001b[0;32mfrom\u001b[0m \u001b[0;32mNone\u001b[0m\u001b[0;34m\u001b[0m\u001b[0;34m\u001b[0m\u001b[0m\n\u001b[0m\u001b[1;32m    896\u001b[0m             \u001b[0;32mexcept\u001b[0m \u001b[0mException\u001b[0m \u001b[0;32mas\u001b[0m \u001b[0me\u001b[0m\u001b[0;34m:\u001b[0m\u001b[0;34m\u001b[0m\u001b[0;34m\u001b[0m\u001b[0m\n\u001b[1;32m    897\u001b[0m                 \u001b[0mself\u001b[0m\u001b[0;34m.\u001b[0m\u001b[0mlog\u001b[0m\u001b[0;34m.\u001b[0m\u001b[0mwarning\u001b[0m\u001b[0;34m(\u001b[0m\u001b[0;34m\"Invalid Message:\"\u001b[0m\u001b[0;34m,\u001b[0m \u001b[0mexc_info\u001b[0m\u001b[0;34m=\u001b[0m\u001b[0;32mTrue\u001b[0m\u001b[0;34m)\u001b[0m\u001b[0;34m\u001b[0m\u001b[0;34m\u001b[0m\u001b[0m\n",
            "\u001b[0;31mKeyboardInterrupt\u001b[0m: Interrupted by user"
          ]
        }
      ]
    },
    {
      "cell_type": "code",
      "source": [],
      "metadata": {
        "id": "sS7qHVSXtSCS"
      },
      "execution_count": null,
      "outputs": []
    }
  ]
}